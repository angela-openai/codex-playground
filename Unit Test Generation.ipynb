{
 "cells": [
  {
   "cell_type": "code",
   "execution_count": 1,
   "id": "c6c0fee5",
   "metadata": {},
   "outputs": [],
   "source": [
    "import os\n",
    "import openai\n",
    "\n",
    "openai.api_key = \"\"\n",
    "\n",
    "def query(prompt, engine=\"davinci-codex\", max_tokens=128, stop=None):\n",
    "    if stop is not None:\n",
    "        response = openai.Completion.create(\n",
    "          engine=engine,\n",
    "          prompt=prompt,\n",
    "          temperature=0,\n",
    "          max_tokens=max_tokens,\n",
    "          top_p=1.0,\n",
    "          frequency_penalty=0.0,\n",
    "          presence_penalty=0.0,\n",
    "          stop=stop\n",
    "        )\n",
    "    else:\n",
    "        response = openai.Completion.create(\n",
    "          engine=engine,\n",
    "          prompt=prompt,\n",
    "          temperature=0,\n",
    "          max_tokens=max_tokens,\n",
    "          top_p=1.0,\n",
    "          frequency_penalty=0.0,\n",
    "          presence_penalty=0.0\n",
    "        )\n",
    "    return response"
   ]
  },
  {
   "cell_type": "code",
   "execution_count": 2,
   "id": "988e4c75",
   "metadata": {},
   "outputs": [
    {
     "name": "stdout",
     "output_type": "stream",
     "text": [
      " test_sum_numbers():\n",
      "  assert sum_numbers(1, 2) == 3\n"
     ]
    }
   ],
   "source": [
    "### Writing unit tests.\n",
    "### Creating a unit test can be accomplished in Python simply by adding the comment \"Unit test\" and starting a function.\n",
    "\n",
    "prompt = '''# Python 3\n",
    "def sum_numbers(a, b):\n",
    "  return a + b\n",
    "\n",
    "# Unit test\n",
    "def'''\n",
    "\n",
    "response = query(prompt, max_tokens=128, stop=[\"\\n\\n\"])\n",
    "output = response.choices[0].text\n",
    "print(output)"
   ]
  }
 ],
 "metadata": {
  "kernelspec": {
   "display_name": "Python 3 (ipykernel)",
   "language": "python",
   "name": "python3"
  },
  "language_info": {
   "codemirror_mode": {
    "name": "ipython",
    "version": 3
   },
   "file_extension": ".py",
   "mimetype": "text/x-python",
   "name": "python",
   "nbconvert_exporter": "python",
   "pygments_lexer": "ipython3",
   "version": "3.8.9"
  }
 },
 "nbformat": 4,
 "nbformat_minor": 5
}
