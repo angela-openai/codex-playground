{
 "cells": [
  {
   "cell_type": "code",
   "execution_count": 2,
   "id": "f9d05f0a",
   "metadata": {},
   "outputs": [],
   "source": [
    "import os\n",
    "import openai"
   ]
  },
  {
   "cell_type": "code",
   "execution_count": 3,
   "id": "0bd5d87f",
   "metadata": {},
   "outputs": [],
   "source": [
    "openai.api_key = \"\""
   ]
  },
  {
   "cell_type": "code",
   "execution_count": 33,
   "id": "a24e0514",
   "metadata": {},
   "outputs": [],
   "source": [
    "def query(prompt, engine=\"davinci-codex\", max_tokens=128, stop=None):\n",
    "    if stop is not None:\n",
    "        response = openai.Completion.create(\n",
    "          engine=engine,\n",
    "          prompt=prompt,\n",
    "          temperature=0,\n",
    "          max_tokens=max_tokens,\n",
    "          top_p=1.0,\n",
    "          frequency_penalty=0.0,\n",
    "          presence_penalty=0.0,\n",
    "          stop=stop\n",
    "        )\n",
    "    else:\n",
    "        response = openai.Completion.create(\n",
    "          engine=engine,\n",
    "          prompt=prompt,\n",
    "          temperature=0,\n",
    "          max_tokens=max_tokens,\n",
    "          top_p=1.0,\n",
    "          frequency_penalty=0.0,\n",
    "          presence_penalty=0.0\n",
    "        )\n",
    "    return response"
   ]
  },
  {
   "cell_type": "code",
   "execution_count": 54,
   "id": "8460f334",
   "metadata": {},
   "outputs": [
    {
     "name": "stdout",
     "output_type": "stream",
     "text": [
      "\n",
      "// It creates a list of 50 random names.\n"
     ]
    }
   ],
   "source": [
    "### Explaining code in Javascript.\n",
    "\n",
    "prompt = '''// Function 1\n",
    "var fullNames = [];\n",
    "for (var i = 0; i < 50; i++) {\n",
    "  fullNames.push(names[Math.floor(Math.random() * names.length)]\n",
    "    + \" \" + lastNames[Math.floor(Math.random() * lastNames.length)]);\n",
    "}\n",
    "\n",
    "// What does Function 1 do?'''\n",
    "\n",
    "response = query(prompt, max_tokens=256, stop=[\"\\n\\n\"])\n",
    "output = response.choices[0].text\n",
    "print(output)"
   ]
  },
  {
   "cell_type": "code",
   "execution_count": 53,
   "id": "c1ba44f8",
   "metadata": {},
   "outputs": [
    {
     "name": "stdout",
     "output_type": "stream",
     "text": [
      " Select the name of each department that has more than 10 employees\n",
      "-- who were paid between June 1st and June 30th\n",
      "-- Join the tables together\n",
      "-- Group by the department name\n",
      "-- Having the count of employees in each department is greater than 10\n"
     ]
    }
   ],
   "source": [
    "### Explaining an SQL query.\n",
    "### In this example we use Codex to explain in a human readable format what an SQL query is doing.\n",
    "\n",
    "prompt = '''SELECT DISTINCT department.name\n",
    "FROM department\n",
    "JOIN employee ON department.id = employee.department_id\n",
    "JOIN salary_payments ON employee.id = salary_payments.employee_id\n",
    "WHERE salary_payments.date BETWEEN '2020-06-01' AND '2020-06-30'\n",
    "GROUP BY department.name\n",
    "HAVING COUNT(employee.id) > 10;\n",
    "-- Explanation of the above query in human readable format\n",
    "--'''\n",
    "response = query(prompt, max_tokens=256, stop=[\"\\n\\n\"])\n",
    "output = response.choices[0].text\n",
    "print(output)"
   ]
  },
  {
   "cell_type": "code",
   "execution_count": 47,
   "id": "a1aa0483",
   "metadata": {},
   "outputs": [
    {
     "name": "stdout",
     "output_type": "stream",
     "text": [
      " test_sum_numbers():\n",
      "  assert sum_numbers(1, 2) == 3\n"
     ]
    }
   ],
   "source": [
    "### Writing unit tests.\n",
    "### Creating a unit test can be accomplished in Python simply by adding the comment \"Unit test\" and starting a function.\n",
    "\n",
    "prompt = '''# Python 3\n",
    "def sum_numbers(a, b):\n",
    "  return a + b\n",
    "\n",
    "# Unit test\n",
    "def'''\n",
    "\n",
    "response = query(prompt, max_tokens=128, stop=[\"\\n\\n\"])\n",
    "output = response.choices[0].text\n",
    "print(output)"
   ]
  },
  {
   "cell_type": "code",
   "execution_count": 61,
   "id": "e322de35",
   "metadata": {},
   "outputs": [
    {
     "name": "stdout",
     "output_type": "stream",
     "text": [
      "\n",
      "var timer = setTimeout(function() {\n",
      "  alert(\"The timer is done!\");\n",
      "}, 10000);\n"
     ]
    }
   ],
   "source": [
    "### Write functions from documentation.\n",
    "\n",
    "prompt = '''// Javascript\n",
    "// Create a timer that creates an alert in 10 seconds'''\n",
    "\n",
    "response = query(prompt, max_tokens=128, stop=[\"\\n\\n\"])\n",
    "output = response.choices[0].text\n",
    "print(output)"
   ]
  },
  {
   "cell_type": "code",
   "execution_count": 63,
   "id": "03064d7d",
   "metadata": {},
   "outputs": [
    {
     "name": "stdout",
     "output_type": "stream",
     "text": [
      "\n",
      "var Hello = React.createClass({\n",
      "  render: function() {\n",
      "    return <div>Hello {this.props.name}</div>;\n",
      "  }\n",
      "});\n",
      "React.render(<Hello name=\"World\" />, document.body);\n"
     ]
    }
   ],
   "source": [
    "prompt = '''// Rewrite this as a React component\n",
    "var input = document.createElement('input');\n",
    "input.setAttribute('type', 'text');\n",
    "document.body.appendChild(input);\n",
    "var button = document.createElement('button');\n",
    "button.innerHTML = 'Say Hello';\n",
    "document.body.appendChild(button);\n",
    "button.onclick = function() {\n",
    "  var name = input.value;\n",
    "  var hello = document.createElement('div');\n",
    "  hello.innerHTML = 'Hello ' + name;\n",
    "  document.body.appendChild(hello);\n",
    "};\n",
    "\n",
    "// React version:'''\n",
    "\n",
    "response = query(prompt, max_tokens=128, stop=[\"\\n\\n\"])\n",
    "output = response.choices[0].text\n",
    "print(output)"
   ]
  },
  {
   "cell_type": "code",
   "execution_count": null,
   "id": "24478c34",
   "metadata": {},
   "outputs": [],
   "source": []
  }
 ],
 "metadata": {
  "kernelspec": {
   "display_name": "Python 3 (ipykernel)",
   "language": "python",
   "name": "python3"
  },
  "language_info": {
   "codemirror_mode": {
    "name": "ipython",
    "version": 3
   },
   "file_extension": ".py",
   "mimetype": "text/x-python",
   "name": "python",
   "nbconvert_exporter": "python",
   "pygments_lexer": "ipython3",
   "version": "3.8.9"
  }
 },
 "nbformat": 4,
 "nbformat_minor": 5
}
