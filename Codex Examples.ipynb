{
 "cells": [
  {
   "cell_type": "code",
   "execution_count": null,
   "id": "f9d05f0a",
   "metadata": {},
   "outputs": [],
   "source": [
    "import os\n",
    "import openai"
   ]
  },
  {
   "cell_type": "code",
   "execution_count": null,
   "id": "0bd5d87f",
   "metadata": {},
   "outputs": [],
   "source": [
    "openai.api_key = \"\""
   ]
  },
  {
   "cell_type": "code",
   "execution_count": null,
   "id": "a24e0514",
   "metadata": {},
   "outputs": [],
   "source": [
    "def query(prompt, engine=\"davinci-codex\", max_tokens=128, stop=None):\n",
    "    if stop is not None:\n",
    "        response = openai.Completion.create(\n",
    "          engine=engine,\n",
    "          prompt=prompt,\n",
    "          temperature=0,\n",
    "          max_tokens=max_tokens,\n",
    "          top_p=1.0,\n",
    "          frequency_penalty=0.0,\n",
    "          presence_penalty=0.0,\n",
    "          stop=stop\n",
    "        )\n",
    "    else:\n",
    "        response = openai.Completion.create(\n",
    "          engine=engine,\n",
    "          prompt=prompt,\n",
    "          temperature=0,\n",
    "          max_tokens=max_tokens,\n",
    "          top_p=1.0,\n",
    "          frequency_penalty=0.0,\n",
    "          presence_penalty=0.0\n",
    "        )\n",
    "    return response"
   ]
  },
  {
   "cell_type": "code",
   "execution_count": 26,
   "id": "8460f334",
   "metadata": {},
   "outputs": [
    {
     "name": "stdout",
     "output_type": "stream",
     "text": [
      "\n",
      "// It creates a list of 50 random names.\n"
     ]
    }
   ],
   "source": [
    "### Explaining code in Javascript.\n",
    "\n",
    "prompt = '''// Function 1\n",
    "var fullNames = [];\n",
    "for (var i = 0; i < 50; i++) {\n",
    "  fullNames.push(names[Math.floor(Math.random() * names.length)]\n",
    "    + \" \" + lastNames[Math.floor(Math.random() * lastNames.length)]);\n",
    "}\n",
    "\n",
    "// What does Function 1 do?'''\n",
    "\n",
    "response = query(prompt, max_tokens=256, stop=[\"\\n\\n\"])\n",
    "output = response.choices[0].text\n",
    "print(output)"
   ]
  },
  {
   "cell_type": "code",
   "execution_count": 27,
   "id": "c1ba44f8",
   "metadata": {},
   "outputs": [
    {
     "name": "stdout",
     "output_type": "stream",
     "text": [
      " Select the name of each department that has more than 10 employees who were paid in the month of June 2020\n",
      "-- Join the tables department and employee on department.id = employee.department_id\n",
      "-- Join the tables employee and salary_payments on employee.id = salary_payments.employee_id\n",
      "-- Select the name of each department that has more than 10 employees who were paid in the month of June 2020\n",
      "-- Group by the name of each department\n",
      "-- Having the count of employees in each department is greater than 10\n"
     ]
    }
   ],
   "source": [
    "### Explaining an SQL query.\n",
    "\n",
    "prompt = '''SELECT DISTINCT department.name\n",
    "FROM department\n",
    "JOIN employee ON department.id = employee.department_id\n",
    "JOIN salary_payments ON employee.id = salary_payments.employee_id\n",
    "WHERE salary_payments.date BETWEEN '2020-06-01' AND '2020-06-30'\n",
    "GROUP BY department.name\n",
    "HAVING COUNT(employee.id) > 10;\n",
    "-- Explanation of the above query in human readable format\n",
    "--'''\n",
    "response = query(prompt, max_tokens=256, stop=[\"\\n\\n\"])\n",
    "output = response.choices[0].text\n",
    "print(output)"
   ]
  },
  {
   "cell_type": "code",
   "execution_count": 28,
   "id": "a1aa0483",
   "metadata": {},
   "outputs": [
    {
     "name": "stdout",
     "output_type": "stream",
     "text": [
      " test_sum_numbers():\n",
      "  assert sum_numbers(1, 2) == 3\n"
     ]
    }
   ],
   "source": [
    "### Writing unit tests.\n",
    "\n",
    "prompt = '''# Python 3\n",
    "def sum_numbers(a, b):\n",
    "  return a + b\n",
    "\n",
    "# Unit test\n",
    "def'''\n",
    "\n",
    "response = query(prompt, max_tokens=128, stop=[\"\\n\\n\"])\n",
    "output = response.choices[0].text\n",
    "print(output)"
   ]
  },
  {
   "cell_type": "code",
   "execution_count": 29,
   "id": "cdb583b0",
   "metadata": {},
   "outputs": [
    {
     "name": "stdout",
     "output_type": "stream",
     "text": [
      "test_lower_case_validator():\n",
      "   df = pd.DataFrame({\"A\": [\"a\", \"B\", \"C\"]})\n",
      "   validator = lower_case_validator(df, \"A\")\n",
      "   assert validator.modified_df.equals(pd.DataFrame({\"A\": [\"a\", \"b\", \"c\"]}))\n",
      "   assert validator.immediate_msg == \"- More than a third of your `A` column/key is uppercase\"\n",
      "   assert validator.optional_msg == \"Lowercase all your data in column/key `A`\"\n",
      " \n",
      "test_lower_case_validator()\n",
      " \n",
      "\n"
     ]
    }
   ],
   "source": [
    "### Writing unit tests.\n",
    "\n",
    "prompt = '''# Python 3\n",
    "def lower_case_validator(df, column):\n",
    "   \"\"\"\n",
    "   This validator will suggest to lowercase the column values, if more than a third of letters are uppercase.\n",
    "   \"\"\"\n",
    " \n",
    "   def lower_case(x):\n",
    "       x[column] = x[column].str.lower()\n",
    "       return x\n",
    " \n",
    "   count_upper = (\n",
    "       df[column]\n",
    "       .apply(lambda x: sum(1 for c in x if c.isalpha() and c.isupper()))\n",
    "       .sum()\n",
    "   )\n",
    "   count_lower = (\n",
    "       df[column]\n",
    "       .apply(lambda x: sum(1 for c in x if c.isalpha() and c.islower()))\n",
    "       .sum()\n",
    "   )\n",
    " \n",
    "   df_lower = lower_case(df)\n",
    " \n",
    "   if count_upper * 2 > count_lower:\n",
    "       return Remediation(\n",
    "           name=\"lower_case\",\n",
    "           immediate_msg=\"\\n- More than a third of your `{column}` column/key is uppercase\",\n",
    "           optional_msg=f\"Lowercase all your data in column/key `{column}`\",\n",
    "           modified_df=df_lower,\n",
    "       )\n",
    " \n",
    "# Unit test\n",
    "def\n",
    "'''\n",
    "\n",
    "response = query(prompt, max_tokens=694, stop=[\"#\"])\n",
    "output = response.choices[0].text\n",
    "print(output)"
   ]
  },
  {
   "cell_type": "code",
   "execution_count": 30,
   "id": "e322de35",
   "metadata": {},
   "outputs": [
    {
     "name": "stdout",
     "output_type": "stream",
     "text": [
      "\n",
      "var timer = setTimeout(function() {\n",
      "  alert(\"The timer is done!\");\n",
      "}, 10000);\n"
     ]
    }
   ],
   "source": [
    "### Write functions from documentation.\n",
    "\n",
    "prompt = '''// Javascript\n",
    "// Create a timer that creates an alert in 10 seconds'''\n",
    "\n",
    "response = query(prompt, max_tokens=128, stop=[\"\\n\\n\"])\n",
    "output = response.choices[0].text\n",
    "print(output)"
   ]
  },
  {
   "cell_type": "code",
   "execution_count": 31,
   "id": "f8d0b349",
   "metadata": {},
   "outputs": [
    {
     "name": "stdout",
     "output_type": "stream",
     "text": [
      "\n",
      "package main\n",
      "\n",
      "import (\n",
      "\t\"fmt\"\n",
      "\t\"log\"\n",
      "\t\"net/http\"\n",
      ")\n",
      "\n",
      "func main() {\n",
      "\thttp.HandleFunc(\"/\", ShowHomepage)\n",
      "\thttp.HandleFunc(\"/about-us\", ContactUs)\n",
      "\thttp.HandleFunc(\"/gmail\", RedirectToGmail)\n",
      "\tfmt.Println(\"Listening on port 8090\")\n",
      "\tlog.Fatal(http.ListenAndServe(\":8090\", nil))\n",
      "}\n",
      "\n",
      "func ShowHomepage(w http.ResponseWriter, r *http.Request) {\n",
      "\tfmt.Fprintf(w, \"Welcome to my website\")\n",
      "}\n",
      "\n",
      "func ContactUs(w http.ResponseWriter, r *http.Request) {\n",
      "\tfmt.Fprintf(w, \"Contact us at contact@us.com\")\n",
      "}\n",
      "\n",
      "func RedirectToGmail(w http.ResponseWriter, r *http.Request) {\n",
      "\thttp.Redirect(w, r, \"https://gmail.com\", 301)\n",
      "}\n"
     ]
    }
   ],
   "source": [
    "### Write functions from documentation.\n",
    "\n",
    "prompt = '''/*\n",
    "A web server in Go\n",
    "Listening on port 8090\n",
    "root path calls ShowHomepage()\n",
    "/about-us calls the ContactUs\n",
    "/gmail is redirects to https://gmail.com\n",
    "Print \"Welcome to my website\"\n",
    "*/\n",
    "'''\n",
    "\n",
    "response = query(prompt, max_tokens=500, stop=[\"###\", \"##\"])\n",
    "output = response.choices[0].text\n",
    "print(output)"
   ]
  },
  {
   "cell_type": "code",
   "execution_count": 39,
   "id": "4f5216b6",
   "metadata": {},
   "outputs": [
    {
     "name": "stdout",
     "output_type": "stream",
     "text": [
      "\n",
      "    struct ether_hdr *eth_hdr;\n",
      "    struct ipv4_hdr *ip_hdr;\n",
      "    struct udp_hdr *udp_hdr;\n",
      "    uint8_t *payload;\n",
      "    uint16_t pkt_size;\n",
      "\n",
      "    pkt_size = sizeof(struct ether_hdr) + sizeof(struct ipv4_hdr) + sizeof(struct udp_hdr) + payload_size;\n",
      "\n",
      "    if (pkt_size > mbuf->buf_len) {\n",
      "        printf(\"Error: packet size is too big\\n\");\n",
      "        return -1;\n",
      "    }\n",
      "\n",
      "    eth_hdr = rte_pktmbuf_mtod(mbuf, struct ether_hdr *);\n",
      "    ip_hdr = (struct ipv4_hdr *)(eth_hdr + 1);\n",
      "    udp_hdr = (struct udp_hdr *)(ip_hdr + 1);\n",
      "    payload = (uint8_t *)(udp_hdr + 1);\n",
      "\n",
      "    memcpy(eth_hdr->d_addr.addr_bytes, dst_mac, ETHER_ADDR_LEN);\n",
      "    memcpy(eth_hdr->s_addr.addr_bytes, src_mac, ETHER_ADDR_LEN);\n",
      "    eth_hdr->ether_type = rte_cpu_to_be_16(ETHER_TYPE_IPv4);\n",
      "\n",
      "    ip_hdr->version_ihl = 0x45;\n",
      "    ip_hdr->type_of_service = 0;\n",
      "    ip_hdr->total_length = rte_cpu_to_be_16(sizeof(struct ipv4_hdr) + sizeof(struct udp_hdr) + payload_size);\n",
      "    ip_hdr->packet_id = 0;\n",
      "    ip_hdr->fragment_offset = 0;\n",
      "    ip_hdr->time_to_live = 64;\n",
      "    ip_hdr->next_proto_id = IPPROTO_UDP;\n",
      "    ip_hdr->src_addr = rte_cpu_to_be_32(src_ip);\n",
      "    ip_hdr->dst_addr = rte_cpu_to_be_32(dst_ip);\n",
      "\n",
      "    udp_hdr->src_port = rte_cpu_to_be_16(src_port);\n",
      "    udp_hdr->dst_port = rte_cpu_to_be_16(dst_port);\n",
      "    udp_hdr->dgram_len = rte_cpu_to_be_16(sizeof(struct udp_hdr) + payload_size);\n",
      "    udp_hdr->dgram_cksum = 0;\n",
      "\n",
      "    memset(payload, 0, payload_size);\n",
      "\n",
      "    mbuf->pkt_len = pkt_size;\n",
      "    mbuf->data_len = pkt_size;\n",
      "\n",
      "    return 0;\n",
      "}\n",
      "\n",
      "\n"
     ]
    }
   ],
   "source": [
    "### Write functions from documentation\n",
    "\n",
    "prompt ='''#include <rte_config.h>\n",
    "#include <rte_ethdev.h>\n",
    "\n",
    "int format_and_send_pkt(struct rte_mbuf *mbuf, uint8_t *src_mac, uint8_t *dst_mac, uint32_t src_ip,\n",
    "               uint32_t dst_ip, uint16_t vlan_id, uint16_t src_port, uint16_t dst_port,\n",
    "               uint16_t payload_size) {'''\n",
    "\n",
    "response = query(prompt, max_tokens=1024, stop=[\"int main\"])\n",
    "output = response.choices[0].text\n",
    "print(output)"
   ]
  },
  {
   "cell_type": "code",
   "execution_count": 33,
   "id": "03064d7d",
   "metadata": {},
   "outputs": [
    {
     "name": "stdout",
     "output_type": "stream",
     "text": [
      "\n",
      "var HelloMessage = React.createClass({\n",
      "  render: function() {\n",
      "    return <div>Hello {this.props.name}</div>;\n",
      "  }\n",
      "});\n",
      "React.render(<HelloMessage name=\"John\" />, document.body);\n"
     ]
    }
   ],
   "source": [
    "### Code translation\n",
    "\n",
    "prompt = '''// Rewrite this as a React component\n",
    "var input = document.createElement('input');\n",
    "input.setAttribute('type', 'text');\n",
    "document.body.appendChild(input);\n",
    "var button = document.createElement('button');\n",
    "button.innerHTML = 'Say Hello';\n",
    "document.body.appendChild(button);\n",
    "button.onclick = function() {\n",
    "  var name = input.value;\n",
    "  var hello = document.createElement('div');\n",
    "  hello.innerHTML = 'Hello ' + name;\n",
    "  document.body.appendChild(hello);\n",
    "};\n",
    "\n",
    "// React version:'''\n",
    "\n",
    "response = query(prompt, max_tokens=128, stop=[\"\\n\\n\"])\n",
    "output = response.choices[0].text\n",
    "print(output)"
   ]
  },
  {
   "cell_type": "code",
   "execution_count": null,
   "id": "8df21228",
   "metadata": {},
   "outputs": [],
   "source": [
    "### Code translation\n",
    "\n",
    "prompt ='''##### Translate this function  from Python into Haskell\n",
    "### Python\n",
    " \n",
    "   def predict_proba(X: Iterable[str]):\n",
    "       return np.array([predict_one_probas(tweet) for tweet in X])\n",
    " \n",
    "### Haskell\n",
    "'''\n",
    "\n",
    "response = query(prompt, max_tokens=54, stop=[\"###\"])\n",
    "output = response.choices[0].text\n",
    "print(output)"
   ]
  },
  {
   "cell_type": "code",
   "execution_count": 32,
   "id": "24478c34",
   "metadata": {},
   "outputs": [
    {
     "name": "stdout",
     "output_type": "stream",
     "text": [
      "import Random\n",
      "a = random.randint(1,12)\n",
      "b = random.randint(1,12)\n",
      "for i in range(10):\n",
      " question = \"What is \"+str(a)+\" x \"+str(b)+\"? \"\n",
      " answer = input(question)\n",
      " if answer == str(a*b):\n",
      "   print (Well done!)\n",
      " else:\n",
      "   print(\"No.\")\n",
      " \n",
      "\n"
     ]
    }
   ],
   "source": [
    "### Fix buggy code\n",
    "\n",
    "prompt ='''##### Fix bugs in the below function\n",
    " \n",
    "### Buggy Python\n",
    "import Random\n",
    "a = random.randint(1,12)\n",
    "b = random.randint(1,12)\n",
    "for i in range(10):\n",
    " question = \"What is \"+a+\" x \"+b+\"? \"\n",
    " answer = input(question)\n",
    " if answer = a*b\n",
    "   print (Well done!)\n",
    " else:\n",
    "   print(\"No.\")\n",
    " \n",
    "### Fixed Python\n",
    "'''\n",
    "\n",
    "response = query(prompt, max_tokens=182, stop=[\"###\"])\n",
    "output = response.choices[0].text\n",
    "print(output)"
   ]
  },
  {
   "cell_type": "code",
   "execution_count": null,
   "id": "f821665e",
   "metadata": {},
   "outputs": [],
   "source": []
  }
 ],
 "metadata": {
  "kernelspec": {
   "display_name": "Python 3 (ipykernel)",
   "language": "python",
   "name": "python3"
  },
  "language_info": {
   "codemirror_mode": {
    "name": "ipython",
    "version": 3
   },
   "file_extension": ".py",
   "mimetype": "text/x-python",
   "name": "python",
   "nbconvert_exporter": "python",
   "pygments_lexer": "ipython3",
   "version": "3.8.9"
  }
 },
 "nbformat": 4,
 "nbformat_minor": 5
}
