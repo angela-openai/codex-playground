{
 "cells": [
  {
   "cell_type": "code",
   "execution_count": 1,
   "id": "7953261a",
   "metadata": {},
   "outputs": [],
   "source": [
    "import os\n",
    "import openai"
   ]
  },
  {
   "cell_type": "code",
   "execution_count": 2,
   "id": "0d4a74b1",
   "metadata": {},
   "outputs": [],
   "source": [
    "openai.api_key = \"\""
   ]
  },
  {
   "cell_type": "code",
   "execution_count": 3,
   "id": "aaf57991",
   "metadata": {},
   "outputs": [],
   "source": [
    "def query(prompt, engine=\"davinci-codex\", max_tokens=128, stop=None):\n",
    "    if stop is not None:\n",
    "        response = openai.Completion.create(\n",
    "          engine=engine,\n",
    "          prompt=prompt,\n",
    "          temperature=0,\n",
    "          max_tokens=max_tokens,\n",
    "          top_p=1.0,\n",
    "          frequency_penalty=0.0,\n",
    "          presence_penalty=0.0,\n",
    "          stop=stop\n",
    "        )\n",
    "    else:\n",
    "        response = openai.Completion.create(\n",
    "          engine=engine,\n",
    "          prompt=prompt,\n",
    "          temperature=0,\n",
    "          max_tokens=max_tokens,\n",
    "          top_p=1.0,\n",
    "          frequency_penalty=0.0,\n",
    "          presence_penalty=0.0\n",
    "        )\n",
    "    return response"
   ]
  },
  {
   "cell_type": "code",
   "execution_count": 4,
   "id": "bfc5fd36",
   "metadata": {},
   "outputs": [
    {
     "name": "stdout",
     "output_type": "stream",
     "text": [
      " Select the name of each department that has more than 10 employees who were paid in the month of June 2020\n",
      "-- Join the tables department and employee on department.id = employee.department_id\n",
      "-- Join the tables employee and salary_payments on employee.id = salary_payments.employee_id\n",
      "-- Select the name of each department that has more than 10 employees who were paid in the month of June 2020\n",
      "-- Group by the name of each department\n",
      "-- Having the count of employees in each department is greater than 10\n"
     ]
    }
   ],
   "source": [
    "### Explaining an SQL query.\n",
    "### In this example we use Codex to explain in a human readable format what an SQL query is doing.\n",
    "\n",
    "prompt = '''SELECT DISTINCT department.name\n",
    "FROM department\n",
    "JOIN employee ON department.id = employee.department_id\n",
    "JOIN salary_payments ON employee.id = salary_payments.employee_id\n",
    "WHERE salary_payments.date BETWEEN '2020-06-01' AND '2020-06-30'\n",
    "GROUP BY department.name\n",
    "HAVING COUNT(employee.id) > 10;\n",
    "-- Explanation of the above query in human readable format\n",
    "--'''\n",
    "response = query(prompt, max_tokens=256, stop=[\"\\n\\n\"])\n",
    "output = response.choices[0].text\n",
    "print(output)"
   ]
  },
  {
   "cell_type": "code",
   "execution_count": 6,
   "id": "300085c5",
   "metadata": {},
   "outputs": [
    {
     "name": "stdout",
     "output_type": "stream",
     "text": [
      " DISTINCT department.name\n",
      "FROM department\n",
      "JOIN employee ON employee.department_id = department.id\n",
      "JOIN salary_payments ON salary_payments.employee_id = employee.id\n",
      "WHERE salary_payments.date > (CURRENT_DATE - INTERVAL '3 months')\n",
      "GROUP BY department.name\n",
      "HAVING COUNT(employee.id) > 10\n"
     ]
    }
   ],
   "source": [
    "### Converting natural language to Postgres SQL\n",
    "\n",
    "prompt = '''### Postgres SQL tables, with their properties:\n",
    "#\n",
    "# Employee(id, name, department_id)\n",
    "# Department(id, name, address)\n",
    "# Salary_Payments(id, employee_id, amount, date)\n",
    "#\n",
    "### A query to list the names of the departments which employed more than 10 employees in the last 3 months\n",
    "SELECT'''\n",
    "\n",
    "response = query(prompt, max_tokens=150, stop=[\"#\", \";\"])\n",
    "output = response.choices[0].text\n",
    "print(output)"
   ]
  },
  {
   "cell_type": "code",
   "execution_count": null,
   "id": "43f3e668",
   "metadata": {},
   "outputs": [],
   "source": []
  },
  {
   "cell_type": "code",
   "execution_count": null,
   "id": "29e5141f",
   "metadata": {},
   "outputs": [],
   "source": []
  }
 ],
 "metadata": {
  "kernelspec": {
   "display_name": "Python 3 (ipykernel)",
   "language": "python",
   "name": "python3"
  },
  "language_info": {
   "codemirror_mode": {
    "name": "ipython",
    "version": 3
   },
   "file_extension": ".py",
   "mimetype": "text/x-python",
   "name": "python",
   "nbconvert_exporter": "python",
   "pygments_lexer": "ipython3",
   "version": "3.8.9"
  }
 },
 "nbformat": 4,
 "nbformat_minor": 5
}
