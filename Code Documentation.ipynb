{
 "cells": [
  {
   "cell_type": "code",
   "execution_count": 2,
   "id": "c6c0fee5",
   "metadata": {},
   "outputs": [],
   "source": [
    "import os\n",
    "import openai\n",
    "\n",
    "openai.api_key = \"\"\n",
    "\n",
    "def query(prompt, engine=\"davinci-codex\", max_tokens=128, stop=None):\n",
    "    if stop is not None:\n",
    "        response = openai.Completion.create(\n",
    "          engine=engine,\n",
    "          prompt=prompt,\n",
    "          temperature=0,\n",
    "          max_tokens=max_tokens,\n",
    "          top_p=1.0,\n",
    "          frequency_penalty=0.0,\n",
    "          presence_penalty=0.0,\n",
    "          stop=stop\n",
    "        )\n",
    "    else:\n",
    "        response = openai.Completion.create(\n",
    "          engine=engine,\n",
    "          prompt=prompt,\n",
    "          temperature=0,\n",
    "          max_tokens=max_tokens,\n",
    "          top_p=1.0,\n",
    "          frequency_penalty=0.0,\n",
    "          presence_penalty=0.0\n",
    "        )\n",
    "    return response"
   ]
  },
  {
   "cell_type": "code",
   "execution_count": 3,
   "id": "988e4c75",
   "metadata": {},
   "outputs": [
    {
     "name": "stdout",
     "output_type": "stream",
     "text": [
      "\n",
      "// It creates a list of 50 random names.\n"
     ]
    }
   ],
   "source": [
    "### Explaining code in Javascript.\n",
    "\n",
    "prompt = '''// Function 1\n",
    "var fullNames = [];\n",
    "for (var i = 0; i < 50; i++) {\n",
    "  fullNames.push(names[Math.floor(Math.random() * names.length)]\n",
    "    + \" \" + lastNames[Math.floor(Math.random() * lastNames.length)]);\n",
    "}\n",
    "\n",
    "// What does Function 1 do?'''\n",
    "\n",
    "response = query(prompt, max_tokens=256, stop=[\"\\n\\n\"])\n",
    "output = response.choices[0].text\n",
    "print(output)"
   ]
  },
  {
   "cell_type": "code",
   "execution_count": 5,
   "id": "69185b34",
   "metadata": {},
   "outputs": [
    {
     "name": "stdout",
     "output_type": "stream",
     "text": [
      " Select the name of each department that has more than 10 employees\n",
      "-- who were paid between June 1st and June 30th, 2020.\n",
      "-- The department name is selected from the department table.\n",
      "-- The department name is joined with the employee table.\n",
      "-- The employee table is joined with the salary_payments table.\n",
      "-- The employee table is filtered by employees who were paid between June 1st and June 30th, 2020.\n",
      "-- The department name is grouped by.\n",
      "-- The department name is selected if it has more than 10 employees who were paid between June 1st and June 30th, 2020.\n"
     ]
    }
   ],
   "source": [
    "### Explaining code in SQL.\n",
    "\n",
    "prompt = '''SELECT DISTINCT department.name\n",
    "FROM department\n",
    "JOIN employee ON department.id = employee.department_id\n",
    "JOIN salary_payments ON employee.id = salary_payments.employee_id\n",
    "WHERE salary_payments.date BETWEEN '2020-06-01' AND '2020-06-30'\n",
    "GROUP BY department.name\n",
    "HAVING COUNT(employee.id) > 10;\n",
    "-- Explanation of the above query in human readable format\n",
    "--'''\n",
    "\n",
    "response = query(prompt, max_tokens=256, stop=[\"\\n\\n\"])\n",
    "output = response.choices[0].text\n",
    "print(output)"
   ]
  },
  {
   "cell_type": "code",
   "execution_count": null,
   "id": "f33e16b1",
   "metadata": {},
   "outputs": [],
   "source": []
  },
  {
   "cell_type": "code",
   "execution_count": null,
   "id": "b7ddf533",
   "metadata": {},
   "outputs": [],
   "source": []
  }
 ],
 "metadata": {
  "kernelspec": {
   "display_name": "Python 3 (ipykernel)",
   "language": "python",
   "name": "python3"
  },
  "language_info": {
   "codemirror_mode": {
    "name": "ipython",
    "version": 3
   },
   "file_extension": ".py",
   "mimetype": "text/x-python",
   "name": "python",
   "nbconvert_exporter": "python",
   "pygments_lexer": "ipython3",
   "version": "3.8.9"
  }
 },
 "nbformat": 4,
 "nbformat_minor": 5
}
